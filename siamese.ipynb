{
 "cells": [
  {
   "cell_type": "code",
   "execution_count": 1,
   "metadata": {
    "colab": {},
    "colab_type": "code",
    "id": "JOlX8afCVlcu"
   },
   "outputs": [],
   "source": [
    "import numpy as np\n",
    "import os\n",
    "import shutil\n",
    "from glob import glob\n",
    "from tqdm import tqdm\n",
    "from cv2 import imread, resize\n",
    "\n",
    "import tensorflow as tf\n",
    "import keras\n",
    "from keras.layers import Input, Conv2D, MaxPooling2D, Lambda, Dense, Flatten\n",
    "from keras.models import Model, Sequential\n",
    "from keras.regularizers import l2\n",
    "from keras import backend as K\n",
    "from keras.optimizers import Adam\n",
    "from keras.losses import binary_crossentropy\n",
    "from keras.utils import plot_model"
   ]
  },
  {
   "cell_type": "code",
   "execution_count": 2,
   "metadata": {
    "colab": {},
    "colab_type": "code",
    "id": "Jwgaam-pocBs"
   },
   "outputs": [],
   "source": [
    "n_classes = 28\n",
    "train_size = 0.6\n",
    "class_size = 20\n",
    "seed = 47\n",
    "input_shape = (100, 100, 1)\n",
    "w, h, c = input_shape"
   ]
  },
  {
   "cell_type": "code",
   "execution_count": 3,
   "metadata": {
    "colab": {},
    "colab_type": "code",
    "id": "u3GKlFsUZ9BR"
   },
   "outputs": [],
   "source": [
    "def load_data(path):\n",
    "\n",
    "    X = []\n",
    "    for char in range(1, 29):\n",
    "        \n",
    "        class_list = []\n",
    "        files = glob(os.path.join(path, str(char))+'/*.png')\n",
    "        np.random.seed(seed=seed)\n",
    "        files = np.random.choice(files, size=class_size, replace=False)\n",
    "        for f in files[:class_size]:\n",
    "\n",
    "            img = imread(f, 0)\n",
    "            class_list.append(resize(img, (w,h)))\n",
    "\n",
    "        X.append(np.array(class_list))\n",
    "    X = np.array(X)[..., None] / 255.0\n",
    "    \n",
    "    return X"
   ]
  },
  {
   "cell_type": "code",
   "execution_count": 4,
   "metadata": {
    "colab": {},
    "colab_type": "code",
    "id": "k3O_qUkeZ-c_"
   },
   "outputs": [],
   "source": [
    "data = load_data('/content/drive/My Drive/dataset')"
   ]
  },
  {
   "cell_type": "code",
   "execution_count": 5,
   "metadata": {
    "colab": {},
    "colab_type": "code",
    "id": "RW95iIcqleTp"
   },
   "outputs": [],
   "source": [
    "def get_batch(batch_size=64):\n",
    "\n",
    "    targets = np.zeros(batch_size)\n",
    "    targets[batch_size//2:] = 1\n",
    "    np.random.shuffle(targets)\n",
    "\n",
    "    pairs = [np.zeros((batch_size, w, h, c)) for i in range(2)]\n",
    "\n",
    "    train_classes = int(train_size*n_classes)\n",
    "    class_one = np.random.choice(train_classes, size=batch_size, replace=False)\n",
    "    idx1 = np.random.randint(0, class_size, batch_size)\n",
    "    idx2 = np.random.randint(0, class_size, batch_size)\n",
    "\n",
    "    for i in range(batch_size):\n",
    "\n",
    "        pairs[0][i] = data[class_one[i], idx1[i]]\n",
    "        \n",
    "        class_two = None\n",
    "        if targets[i] == 1:\n",
    "            class_two = class_one[i]\n",
    "        else:\n",
    "            class_two = (class_one[i] + np.random.randint(1, train_classes)) % train_classes\n",
    "            assert class_two != class_one[i], \"Error, same class\"\n",
    "\n",
    "        pairs[1][i] = data[class_two, idx2[i]]\n",
    "        \n",
    "    return pairs, targets"
   ]
  },
  {
   "cell_type": "code",
   "execution_count": 6,
   "metadata": {
    "colab": {},
    "colab_type": "code",
    "id": "hyKMzYisWHvs"
   },
   "outputs": [],
   "source": [
    "def model():\n",
    "    \n",
    "    W_init = keras.initializers.RandomNormal(mean = 0.0, stddev = 0.01)\n",
    "    FC_W_init = keras.initializers.RandomNormal(mean = 0.0, stddev = 0.2)\n",
    "    b_init = keras.initializers.RandomNormal(mean = 0.5, stddev = 0.01)\n",
    "    \n",
    "    input_img1 = Input(input_shape)\n",
    "    input_img2 = Input(input_shape)\n",
    "\n",
    "    model = Sequential()\n",
    "    model.add(Conv2D(64, (10, 10), activation='relu', input_shape=input_shape,\n",
    "                    kernel_initializer=W_init, bias_initializer=b_init, kernel_regularizer=l2(2e-4)))\n",
    "    model.add(MaxPooling2D())\n",
    "\n",
    "    model.add(Conv2D(128, (7, 7), activation='relu',\n",
    "                    kernel_initializer=W_init, bias_initializer=b_init, kernel_regularizer=l2(2e-4)))\n",
    "    model.add(MaxPooling2D())\n",
    "\n",
    "    model.add(Conv2D(128, (4,4), activation='relu',\n",
    "                    kernel_initializer=W_init, bias_initializer=b_init, kernel_regularizer=l2(2e-4)))\n",
    "    model.add(MaxPooling2D())\n",
    "    \n",
    "    model.add(Conv2D(256, (4,4), activation='relu',\n",
    "                    kernel_initializer=W_init, bias_initializer=b_init, kernel_regularizer=l2(2e-4)))\n",
    "    model.add(Flatten())\n",
    "    \n",
    "    model.add(Dense(4096, activation='sigmoid',\n",
    "                   kernel_initializer=FC_W_init, bias_initializer=b_init, kernel_regularizer=l2(1e-3)))\n",
    "    \n",
    "    encoding1 = model(input_img1)\n",
    "    encoding2 = model(input_img2)\n",
    "\n",
    "    distance = Lambda(lambda embed: K.abs(embed[0] - embed[1])) ([encoding1, encoding2])\n",
    "    prediction = Dense(1, activation='sigmoid', bias_initializer=b_init)(distance)\n",
    "\n",
    "    siamese_net = Model(inputs=[input_img1, input_img2], outputs=prediction)\n",
    "\n",
    "    return siamese_net"
   ]
  },
  {
   "cell_type": "code",
   "execution_count": 7,
   "metadata": {
    "colab": {
     "base_uri": "https://localhost:8080/",
     "height": 762
    },
    "colab_type": "code",
    "id": "cc7oMBW8bSN8",
    "outputId": "0291e786-a5d5-49e2-ffa6-55c14f303b28"
   },
   "outputs": [
    {
     "name": "stdout",
     "output_type": "stream",
     "text": [
      "Model: \"functional_1\"\n",
      "__________________________________________________________________________________________________\n",
      "Layer (type)                    Output Shape         Param #     Connected to                     \n",
      "==================================================================================================\n",
      "input_1 (InputLayer)            [(None, 100, 100, 1) 0                                            \n",
      "__________________________________________________________________________________________________\n",
      "input_2 (InputLayer)            [(None, 100, 100, 1) 0                                            \n",
      "__________________________________________________________________________________________________\n",
      "sequential (Sequential)         (None, 4096)         27413312    input_1[0][0]                    \n",
      "                                                                 input_2[0][0]                    \n",
      "__________________________________________________________________________________________________\n",
      "lambda (Lambda)                 (None, 4096)         0           sequential[0][0]                 \n",
      "                                                                 sequential[1][0]                 \n",
      "__________________________________________________________________________________________________\n",
      "dense_1 (Dense)                 (None, 1)            4097        lambda[0][0]                     \n",
      "==================================================================================================\n",
      "Total params: 27,417,409\n",
      "Trainable params: 27,417,409\n",
      "Non-trainable params: 0\n",
      "__________________________________________________________________________________________________\n"
     ]
    },
    {
     "data": {
      "image/png": "[encoded data removed]",
      "text/plain": [
       "<IPython.core.display.Image object>"
      ]
     },
     "execution_count": 7,
     "metadata": {
      "tags": []
     },
     "output_type": "execute_result"
    }
   ],
   "source": [
    "siamese_net = model()\n",
    "optimizer= Adam(learning_rate=0.0006)\n",
    "siamese_net.compile(loss='binary_crossentropy', optimizer=optimizer)\n",
    "\n",
    "siamese_net.summary()\n",
    "plot_model(siamese_net, show_shapes=True, show_layer_names=True)"
   ]
  },
  {
   "cell_type": "code",
   "execution_count": null,
   "metadata": {
    "colab": {},
    "colab_type": "code",
    "id": "QLp3RH6kZc7x"
   },
   "outputs": [],
   "source": [
    "def nway_one_shot(n_way, split='val'):\n",
    "\n",
    "    train_classes = int(train_size*n_classes)\n",
    "    val_classes = [x for x in range(train_classes, n_classes)] if split == 'val' else [x for x in range(0, train_classes)]\n",
    "\n",
    "    classes = np.random.choice(val_classes, size=n_way, replace=False)\n",
    "    pairs = [np.zeros((n_way, w, h, c)) for k in range(2)]\n",
    "    true_class = classes[0]\n",
    "    indices = np.random.randint(0, class_size, size=n_way)\n",
    "    idx1, idx2 = np.random.choice(class_size, size=2, replace=False)\n",
    "\n",
    "    for k in range(n_way):\n",
    "        \n",
    "        pairs[0][k] = data[true_class][idx1]\n",
    "\n",
    "        if k == 0:\n",
    "            pairs[1][k] = data[true_class][idx2]\n",
    "        else:\n",
    "            pairs[1][k] = data[classes[k]][indices[k]]\n",
    "\n",
    "    return pairs        \n",
    "\n",
    "def one_shot_task(n_val, n_way, split='val'):\n",
    "\n",
    "    n_correct = 0\n",
    "    for i in range(n_val):\n",
    "\n",
    "        pairs = nway_one_shot(n_way, split)\n",
    "        probs = siamese_net.predict(pairs)\n",
    "        if np.argmax(probs) == 0:\n",
    "            n_correct += 1\n",
    "        \n",
    "    accuracy = 100 * n_correct / n_val\n",
    "    # print(f'Accuracy = {accuracy}')\n",
    "    return accuracy\n"
   ]
  },
  {
   "cell_type": "code",
   "execution_count": 9,
   "metadata": {
    "colab": {},
    "colab_type": "code",
    "id": "8tfzoEUvZd7M"
   },
   "outputs": [],
   "source": [
    "epochs = 200*1000\n",
    "every = 7000\n",
    "batch_size = 16\n",
    "n_val = 200\n",
    "n_way = 12\n",
    "best = 80\n",
    "model_path = '/content/drive/My Drive/Colab Notebooks'"
   ]
  },
  {
   "cell_type": "code",
   "execution_count": null,
   "metadata": {
    "colab": {
     "base_uri": "https://localhost:8080/",
     "height": 1000
    },
    "colab_type": "code",
    "id": "vxXKAhpPZq65",
    "outputId": "3ffc139d-0efe-414b-d059-56c24d16b2b4",
    "scrolled": false
   },
   "outputs": [],
   "source": [
    "for i in range(epochs):\n",
    "\n",
    "    pairs, targets = get_batch(batch_size=batch_size)\n",
    "    loss = siamese_net.train_on_batch(pairs, targets)\n",
    "    if i % every == 0:\n",
    "        print(\"\\n ------------- \\n\")\n",
    "        print(\"Train Loss: {0}\".format(loss)) \n",
    "        val_acc = one_shot_task(n_val, n_way)\n",
    "        if val_acc >= best:\n",
    "            siamese_net.save_weights(os.path.join(model_path, f'weights.{seed}.{i}.h5'))\n",
    "            print(f'\\nCurrent best: {val_acc}, previous best: {best}')\n",
    "            best = val_acc"
   ]
  },
  {
   "cell_type": "code",
   "execution_count": 16,
   "metadata": {
    "colab": {},
    "colab_type": "code",
    "id": "9o3fQ-wQbRc3"
   },
   "outputs": [],
   "source": [
    "def nn_model(nway):\n",
    "\n",
    "    pairs = nway_one_shot(nway)\n",
    "    distance = np.zeros(nway)\n",
    "    for i in range(nway):\n",
    "\n",
    "        distance[i] = np.sum((pairs[0][i] - pairs[1][i])**2)\n",
    "    \n",
    "    return np.argmin(distance) == 0\n",
    "\n",
    "def test_nn(trials, nway):\n",
    "\n",
    "    correct = 0\n",
    "    for i in range(trials):\n",
    "        correct += nn_model(nway)\n",
    "\n",
    "    return 100 * correct / trials"
   ]
  },
  {
   "cell_type": "markdown",
   "metadata": {
    "colab_type": "text",
    "id": "ys7QZ_TdBCJf"
   },
   "source": [
    "# Testing"
   ]
  },
  {
   "cell_type": "code",
   "execution_count": 56,
   "metadata": {
    "colab": {},
    "colab_type": "code",
    "id": "PnNdefxWtzo7"
   },
   "outputs": [],
   "source": [
    "siamese_net.load_weights('/content/drive/My Drive/Colab Notebooks/weights.47.14000.h5')"
   ]
  },
  {
   "cell_type": "code",
   "execution_count": null,
   "metadata": {
    "colab": {
     "base_uri": "https://localhost:8080/",
     "height": 1000
    },
    "colab_type": "code",
    "id": "AKbMKXiqBBWQ",
    "outputId": "48095afd-b53f-4fb9-c867-c54b601df294"
   },
   "outputs": [],
   "source": [
    "train_acc, val_acc, nn_acc = [], [], []\n",
    "trials = 500\n",
    "ways = [x for x in range(2, 13)]\n",
    "\n",
    "for nway in tqdm(ways):\n",
    "\n",
    "    train_acc.append(one_shot_task(trials, nway, split='train'))\n",
    "    val_acc.append(one_shot_task(trials, nway, split='val'))\n",
    "    nn_acc.append(test_nn(trials, nway))"
   ]
  },
  {
   "cell_type": "code",
   "execution_count": 58,
   "metadata": {
    "colab": {
     "base_uri": "https://localhost:8080/",
     "height": 34
    },
    "colab_type": "code",
    "id": "bAFvfHEsv3x-",
    "outputId": "11861f32-46e2-40d4-8519-d9fcc39b7976"
   },
   "outputs": [
    {
     "data": {
      "text/plain": [
       "[99.8, 99.6, 99.0, 98.6, 98.8, 97.4, 97.2, 96.8, 96.6, 97.0, 96.0]"
      ]
     },
     "execution_count": 58,
     "metadata": {
      "tags": []
     },
     "output_type": "execute_result"
    }
   ],
   "source": [
    "train_acc"
   ]
  },
  {
   "cell_type": "code",
   "execution_count": 59,
   "metadata": {
    "colab": {
     "base_uri": "https://localhost:8080/",
     "height": 34
    },
    "colab_type": "code",
    "id": "0NHALHd4wiPv",
    "outputId": "a0c8acd0-b955-4409-ac81-d1da82077828"
   },
   "outputs": [
    {
     "data": {
      "text/plain": [
       "[97.8, 97.2, 98.2, 98.4, 96.6, 95.4, 95.0, 95.6, 94.0, 96.0, 92.8]"
      ]
     },
     "execution_count": 59,
     "metadata": {
      "tags": []
     },
     "output_type": "execute_result"
    }
   ],
   "source": [
    "val_acc"
   ]
  },
  {
   "cell_type": "code",
   "execution_count": 60,
   "metadata": {
    "colab": {
     "base_uri": "https://localhost:8080/",
     "height": 34
    },
    "colab_type": "code",
    "id": "OG7GXdLlwlsO",
    "outputId": "517d24bf-dff9-4e3f-fa14-0a030c747b5e"
   },
   "outputs": [
    {
     "data": {
      "text/plain": [
       "[57.8, 45.8, 37.4, 31.4, 31.0, 26.2, 23.2, 19.8, 19.6, 22.8, 15.2]"
      ]
     },
     "execution_count": 60,
     "metadata": {
      "tags": []
     },
     "output_type": "execute_result"
    }
   ],
   "source": [
    "nn_acc"
   ]
  },
  {
   "cell_type": "code",
   "execution_count": 72,
   "metadata": {
    "colab": {
     "base_uri": "https://localhost:8080/",
     "height": 295
    },
    "colab_type": "code",
    "id": "RvZEaekc5-57",
    "outputId": "65d5d087-5c4b-4375-b710-abba26b16b2f"
   },
   "outputs": [
    {
     "data": {
      "image/png": "[encoded data removed]",
      "text/plain": [
       "<Figure size 432x288 with 1 Axes>"
      ]
     },
     "metadata": {
      "needs_background": "light",
      "tags": []
     },
     "output_type": "display_data"
    }
   ],
   "source": [
    "import matplotlib. pyplot as plt\n",
    "fig,ax = plt.subplots(1)\n",
    "ax.plot(ways, train_acc, \"r\", label=\"Siamese(train set)\")\n",
    "ax.plot(ways, val_acc, \"b\", label=\"Siamese(val set)\")\n",
    "plt.plot(ways, nn_acc, \"g\", label=\"Nearest neighbour\")\n",
    "\n",
    "plt.xlabel(\"Number of possible classes in one-shot tasks\")\n",
    "plt.ylabel(\"% Accuracy\")\n",
    "plt.title(\"Arabic One-Shot Learning Performance of a Siamese Network\")\n",
    "ax.legend()\n",
    "plt.show()"
   ]
  }
 ],
 "metadata": {
  "accelerator": "GPU",
  "colab": {
   "collapsed_sections": [],
   "name": "siamese",
   "provenance": [],
   "toc_visible": true
  },
  "kernelspec": {
   "display_name": "Python 3",
   "language": "python",
   "name": "python3"
  },
  "language_info": {
   "codemirror_mode": {
    "name": "ipython",
    "version": 3
   },
   "file_extension": ".py",
   "mimetype": "text/x-python",
   "name": "python",
   "nbconvert_exporter": "python",
   "pygments_lexer": "ipython3",
   "version": "3.7.4"
  }
 },
 "nbformat": 4,
 "nbformat_minor": 1
}
